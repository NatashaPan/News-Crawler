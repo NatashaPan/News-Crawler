{
 "cells": [
  {
   "cell_type": "markdown",
   "metadata": {},
   "source": [
    "# Working Area"
   ]
  },
  {
   "cell_type": "code",
   "execution_count": 9,
   "metadata": {
    "collapsed": true
   },
   "outputs": [],
   "source": [
    "import requests\n",
    "from bs4 import BeautifulSoup\n",
    "import re\n",
    "import json\n",
    "from concurrent.futures import ThreadPoolExecutor, wait\n",
    "from datetime import datetime\n",
    "from pymongo import MongoClient\n",
    "\n"
   ]
  },
  {
   "cell_type": "code",
   "execution_count": 10,
   "metadata": {
    "collapsed": true
   },
   "outputs": [],
   "source": [
    "class StopWatch:\n",
    "    start = None\n",
    "    \n",
    "    @staticmethod\n",
    "    def start():\n",
    "        StopWatch.start = datetime.now()\n",
    "        \n",
    "    @staticmethod    \n",
    "    def split(break_point):\n",
    "        try:\n",
    "            split = datetime.now()\n",
    "            time_elapsed = str(split - StopWatch.start)\n",
    "            StopWatch.start = split\n",
    "            print(\"break point = \" + break_point + \"time elapsed = \" + time_elapsed)\n",
    "        except:\n",
    "            print(\"ValueError: StopWatch.split parameter must be string\")\n",
    "            \n",
    "            "
   ]
  },
  {
   "cell_type": "code",
   "execution_count": 11,
   "metadata": {
    "collapsed": true
   },
   "outputs": [],
   "source": [
    "def get_url_links(post_urls, page):  \n",
    "    \"\"\"\n",
    "    Read through HTML content and returns a list of url_links\n",
    "    of each post in the category \"politics\" at Wetalk.tw\n",
    "    \"\"\"\n",
    "    URL = \"https://www.wetalk.tw/forum.php?mod=forumdisplay&fid=2&page={}\".format(page)\n",
    "    resp = requests.get(URL)\n",
    "\n",
    "    soup = BeautifulSoup(resp.text, \"html5lib\")\n",
    "    tmp_urls = [a.get('href') for a in soup.select('tbody > tr > th > a.xst')]\n",
    "    post_urls.extend(tmp_urls[2:])\n",
    "    return post_urls"
   ]
  },
  {
   "cell_type": "code",
   "execution_count": 12,
   "metadata": {
    "collapsed": true
   },
   "outputs": [],
   "source": [
    "def save_posts_info(post_urls):  \n",
    "    \"\"\"\n",
    "    Save posts infomation to dictionary in the list\n",
    "    \"\"\"\n",
    "    news_list = []\n",
    "    count = 0\n",
    "\n",
    "    for url in post_urls:\n",
    "        news = {}\n",
    "        resp_c = requests.get(url)\n",
    "        soup_c = BeautifulSoup(resp_c.text, 'html5lib')   \n",
    "\n",
    "        news[\"title\"]    = soup_c.select(\"h1.ts\")[0].text.replace('\\n','')\n",
    "        news[\"datetime\"] = soup_c.select('span.date-show-info')[0].text.replace('發表','').strip()\n",
    "        news[\"reporter\"] = soup_c.select('a[itemprop=\"author\"]')[0].text\n",
    "        news[\"media\"]    = \"wetalk\"\n",
    "        news[\"category\"] = \"Forum\"\n",
    "        news[\"hash\"]     = hash(resp_c.text)\n",
    "        news[\"url\"]      = url\n",
    "        news[\"content\"]  = soup_c.select(\"td.t_f > article\")[0].text.replace('\\n','').replace('發表','').strip()\n",
    "        news[\"comments\"] = []\n",
    "        for i in range(len(soup_c.select(\"td.info-post-td > a\"))):\n",
    "            news[\"comments\"].append({})   \n",
    "            news[\"comments\"][i][\"comment_content\"] = \"\".join([p.text for p in soup_c.select('[id^=\"postmessage_\"] > div[align=\"left\"]')])\n",
    "            news[\"comments\"][i][\"datetime\"] = soup_c.select(\"span.date-show-info\")[0].text.replace('\\n','').replace('發表','').strip()\n",
    "            news[\"comments\"][i][\"user_id\"] = soup_c.select(\"td.info-post-td > a\")[0].text\n",
    "        news_list.append(news)\n",
    "        count += 1\n",
    "        if 0 == count%2:  #這裏改成100，每100個post輸出一次\n",
    "            output_as_json(count, 'wetalk', news_list)\n",
    "            load_into_mongodb('testDatabase', 'testCollection', news_list)\n",
    "            news_list[:] = []\n",
    "            print('輸出一個檔案囉～')\n",
    "            "
   ]
  },
  {
   "cell_type": "code",
   "execution_count": 13,
   "metadata": {
    "collapsed": true
   },
   "outputs": [],
   "source": [
    "def output_as_json(index, media, x):  \n",
    "    \"\"\"\n",
    "    Output as json files\n",
    "    \"\"\"\n",
    "    with open(\"./News_Crawler/{}/{}_{}.txt\".format(media, media, index), 'w', encoding='UTF-8') as f:\n",
    "        jd = json.dumps(x, ensure_ascii=False)\n",
    "        f.write(jd)"
   ]
  },
  {
   "cell_type": "code",
   "execution_count": 14,
   "metadata": {
    "collapsed": true
   },
   "outputs": [],
   "source": [
    "def load_into_mongodb(db_name, collection_name, doc):\n",
    "    db = client[db_name]\n",
    "    collection = db[collection_name]\n",
    "    collection.insert_many(doc)\n",
    "    "
   ]
  },
  {
   "cell_type": "code",
   "execution_count": 15,
   "metadata": {
    "collapsed": true
   },
   "outputs": [],
   "source": [
    "def main():\n",
    "    post_urls = []\n",
    "    urls = get_url_links(post_urls, \"1\")\n",
    "    save_posts_info(urls)\n",
    "    \n",
    "    "
   ]
  },
  {
   "cell_type": "code",
   "execution_count": 16,
   "metadata": {},
   "outputs": [
    {
     "name": "stdout",
     "output_type": "stream",
     "text": [
      "輸出一個檔案囉～\n",
      "輸出一個檔案囉～\n",
      "輸出一個檔案囉～\n",
      "輸出一個檔案囉～\n",
      "輸出一個檔案囉～\n",
      "輸出一個檔案囉～\n",
      "輸出一個檔案囉～\n",
      "輸出一個檔案囉～\n",
      "輸出一個檔案囉～\n",
      "輸出一個檔案囉～\n",
      "輸出一個檔案囉～\n",
      "輸出一個檔案囉～\n",
      "輸出一個檔案囉～\n",
      "break point = time elapsed = 0:01:42.621248\n"
     ]
    }
   ],
   "source": [
    "if __name__ == \"__main__\":        \n",
    "    StopWatch.start()\n",
    "    client = MongoClient('localhost', 27017, maxPoolSize=None) #這裡需要指名你要連線的MongoDB所在的ip和port\n",
    "    main()\n",
    "    StopWatch.split('')"
   ]
  },
  {
   "cell_type": "code",
   "execution_count": null,
   "metadata": {
    "collapsed": true
   },
   "outputs": [],
   "source": []
  },
  {
   "cell_type": "code",
   "execution_count": null,
   "metadata": {
    "collapsed": true
   },
   "outputs": [],
   "source": []
  },
  {
   "cell_type": "code",
   "execution_count": null,
   "metadata": {
    "collapsed": true
   },
   "outputs": [],
   "source": []
  }
 ],
 "metadata": {
  "kernelspec": {
   "display_name": "Python 3",
   "language": "python",
   "name": "python3"
  },
  "language_info": {
   "codemirror_mode": {
    "name": "ipython",
    "version": 3
   },
   "file_extension": ".py",
   "mimetype": "text/x-python",
   "name": "python",
   "nbconvert_exporter": "python",
   "pygments_lexer": "ipython3",
   "version": "3.6.3"
  }
 },
 "nbformat": 4,
 "nbformat_minor": 2
}

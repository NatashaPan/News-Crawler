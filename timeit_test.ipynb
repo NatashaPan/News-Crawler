{
 "cells": [
  {
   "cell_type": "markdown",
   "metadata": {
    "collapsed": true
   },
   "source": [
    "## Improving performance and profiling"
   ]
  },
  {
   "cell_type": "markdown",
   "metadata": {},
   "source": [
    "* 7 tips to Time Python scripts and control Memory & CPU usage\n",
    "    <br> http://www.marinamele.com/7-tips-to-time-python-scripts-and-control-memory-and-cpu-usage\n",
    "\n",
    "\n",
    "* google: measure performance bottleneck python\n",
    "\n",
    "\n",
    "* Performance and Profiling\n",
    "Q: What is Software Profiling?\n",
    "A: The act of using instrumentation to objectively measure the performance of your application. \n",
    "“Performance” can be a measure of any of the following:\n",
    "    1. resource use (CPU, memory)\n",
    "    2. frequency or duration of function calls\n",
    "    3. wall clock execution time of part or all of your application\n",
    "    <br>http://uwpce-pythoncert.github.io/SystemDevelopment/profiling.html\n",
    "\n",
    "\n",
    "* stopwatch.py\n",
    "    <br>https://gist.github.com/igniteflow/1253276\n",
    "\n",
    "\n",
    "* timeit.timeit()\n",
    "    <br> https://docs.python.org/3.6/library/timeit.html\n",
    "\n"
   ]
  },
  {
   "cell_type": "code",
   "execution_count": 6,
   "metadata": {
    "collapsed": true
   },
   "outputs": [],
   "source": [
    "import timeit\n",
    "import time\n",
    "from datetime import datetime"
   ]
  },
  {
   "cell_type": "code",
   "execution_count": 7,
   "metadata": {},
   "outputs": [
    {
     "data": {
      "text/plain": [
       "5.0657875537872314"
      ]
     },
     "execution_count": 7,
     "metadata": {},
     "output_type": "execute_result"
    }
   ],
   "source": [
    "tmp = []\n",
    "\n",
    "for i in range(10000):\n",
    "    tmp.append(i)\n",
    "start = time.time()\n",
    "print(len(tmp))    \n",
    "stop = time.time()\n",
    "stop-start"
   ]
  },
  {
   "cell_type": "code",
   "execution_count": 8,
   "metadata": {},
   "outputs": [
    {
     "data": {
      "text/plain": [
       "2.387612961761569"
      ]
     },
     "execution_count": 8,
     "metadata": {},
     "output_type": "execute_result"
    }
   ],
   "source": [
    "timeit.timeit(\"for i in range(100000001): i\",number = 1)"
   ]
  },
  {
   "cell_type": "code",
   "execution_count": 9,
   "metadata": {},
   "outputs": [
    {
     "data": {
      "text/plain": [
       "datetime.timedelta(0, 5, 41405)"
      ]
     },
     "execution_count": 9,
     "metadata": {},
     "output_type": "execute_result"
    }
   ],
   "source": [
    "start = datetime.now()\n",
    "for i in range(100000001): \n",
    "    i\n",
    "stop = datetime.now()\n",
    "stop-start"
   ]
  }
 ],
 "metadata": {
  "kernelspec": {
   "display_name": "Python 3",
   "language": "python",
   "name": "python3"
  },
  "language_info": {
   "codemirror_mode": {
    "name": "ipython",
    "version": 3
   },
   "file_extension": ".py",
   "mimetype": "text/x-python",
   "name": "python",
   "nbconvert_exporter": "python",
   "pygments_lexer": "ipython3",
   "version": "3.6.3"
  }
 },
 "nbformat": 4,
 "nbformat_minor": 2
}

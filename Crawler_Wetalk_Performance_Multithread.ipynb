{
 "cells": [
  {
   "cell_type": "markdown",
   "metadata": {},
   "source": [
    "# Working Area"
   ]
  },
  {
   "cell_type": "code",
   "execution_count": 1,
   "metadata": {
    "collapsed": true
   },
   "outputs": [],
   "source": [
    "import requests\n",
    "from bs4 import BeautifulSoup\n",
    "import re\n",
    "import json\n",
    "from concurrent.futures import ThreadPoolExecutor, wait\n",
    "from datetime import datetime\n",
    "from pymongo import MongoClient\n",
    "\n"
   ]
  },
  {
   "cell_type": "code",
   "execution_count": 2,
   "metadata": {
    "collapsed": true
   },
   "outputs": [],
   "source": [
    "class StopWatch:\n",
    "    start = None\n",
    "    \n",
    "    @staticmethod\n",
    "    def start():\n",
    "        StopWatch.start = datetime.now()\n",
    "        \n",
    "    @staticmethod    \n",
    "    def split(break_point):\n",
    "        try:\n",
    "            split = datetime.now()\n",
    "            time_elapsed = str(split - StopWatch.start)\n",
    "            StopWatch.start = split\n",
    "            print(\"break point = \" + break_point + \"time elapsed = \" + time_elapsed)\n",
    "        except:\n",
    "            print(\"ValueError: StopWatch.split parameter must be string\")\n",
    "            \n",
    "            "
   ]
  },
  {
   "cell_type": "code",
   "execution_count": null,
   "metadata": {
    "collapsed": true
   },
   "outputs": [],
   "source": []
  },
  {
   "cell_type": "code",
   "execution_count": 3,
   "metadata": {
    "collapsed": true
   },
   "outputs": [],
   "source": [
    "def get_url_links(page, post_urls): \n",
    "\n",
    "    URL = \"https://www.wetalk.tw/forum.php?mod=forumdisplay&fid=2&page={}\".format(page)    \n",
    "    resp = requests.get(URL)\n",
    "\n",
    "    soup = BeautifulSoup(resp.text, \"html5lib\")\n",
    "    tmp_urls = [a.get('href') for a in soup.select('tbody > tr > th > a.xst')]\n",
    "    post_urls.extend(tmp_urls[2:])\n",
    "    \n",
    "   \n",
    "    "
   ]
  },
  {
   "cell_type": "code",
   "execution_count": 4,
   "metadata": {
    "collapsed": true
   },
   "outputs": [],
   "source": [
    "def save_posts_info(url, news_list, count):\n",
    "    news = {}\n",
    "    resp_c = requests.get(url)\n",
    "    soup_c = BeautifulSoup(resp_c.text, 'html5lib') \n",
    "\n",
    "    news[\"title\"]    = soup_c.select(\"h1.ts\")[0].text.replace('\\n','')\n",
    "    news[\"datetime\"] = soup_c.select('span.date-show-info')[0].text.replace('發表','').strip()\n",
    "    news[\"reporter\"] = soup_c.select('a[itemprop=\"author\"]')[0].text\n",
    "    news[\"media\"]    = \"wetalk\"\n",
    "    news[\"category\"] = \"Forum\"\n",
    "    news[\"hash\"]     = hash(resp_c.text)\n",
    "    news[\"url\"]      = url\n",
    "    news[\"content\"]  = soup_c.select(\"td.t_f > article\")[0].text.replace('\\n','').replace('發表','').strip()\n",
    "    news[\"comments\"] = []\n",
    "    \n",
    "    for i in range(len(soup_c.select(\"td.info-post-td > a\"))):\n",
    "        news[\"comments\"].append({})   \n",
    "        news[\"comments\"][i][\"comment_content\"] = \"\".join([p.text for p in soup_c.select('[id^=\"postmessage_\"] > div[align=\"left\"]')])\n",
    "        news[\"comments\"][i][\"datetime\"] = soup_c.select(\"span.date-show-info\")[0].text.replace('\\n','').replace('發表','').strip()\n",
    "        news[\"comments\"][i][\"user_id\"] = soup_c.select(\"td.info-post-td > a\")[0].text\n",
    "    news_list.append(news)\n",
    "    count.append('SUCCESS')  #這裏我使用list做為計數器，因為list傳的是記憶體位址，各個thread執行完去append都不會出現問題\n",
    "\n",
    "\n",
    "    try:\n",
    "        if 0 == len(count)%2:  #每2個post輸出一次，先輸出為json檔做本地備份，同時利用insert.many() load進共享的mongodb\n",
    "            temp_list = news_list[:2]\n",
    "            del news_list[:2]\n",
    "            output_as_json(len(count), 'wetalk', temp_list)\n",
    "            load_into_mongodb('testDatabase', 'testCollection', temp_list)\n",
    "            print('輸出一個檔案囉～')\n",
    "            \n",
    "    except Exception as e:\n",
    "        with open(\"./error_log.txt\", 'a', encoding='UTF-8') as f:        \n",
    "            f.write(str(datetime.now()) + '  ' + 'error : <' + str(e) + ' >'+ '\\n')\n",
    "        # 開一個叫error_log的檔案，寫入Error message和產生時間，方便後人查找\n",
    "        # 如此讓程式不要斷掉，且能在之後檢測error發生的時間點及狀況\n",
    "\n"
   ]
  },
  {
   "cell_type": "code",
   "execution_count": 5,
   "metadata": {
    "collapsed": true
   },
   "outputs": [],
   "source": [
    "def output_as_json(index, media, x):\n",
    "    with open(\"./News_Crawler/{}/{}_{}.json\".format(media, media, index), 'w', encoding='UTF-8') as f:        \n",
    "        jd = json.dumps(x, ensure_ascii=False, indent=4)\n",
    "        f.write(jd)\n",
    "    \n",
    "\n"
   ]
  },
  {
   "cell_type": "code",
   "execution_count": 6,
   "metadata": {
    "collapsed": true
   },
   "outputs": [],
   "source": [
    "def load_into_mongodb(db_name, collection_name, doc):\n",
    "    db = client[db_name]\n",
    "    collection = db[collection_name]\n",
    "    collection.insert_many(doc)\n",
    " "
   ]
  },
  {
   "cell_type": "code",
   "execution_count": 7,
   "metadata": {
    "collapsed": true
   },
   "outputs": [],
   "source": [
    "def show_db_data(db_name, collection_name):\n",
    "    db = client[db_name]\n",
    "   # utilize for-loop to iterate through curser-object\n",
    "    for doc in db.collection_name.find():\n",
    "        print(doc) \n",
    "      "
   ]
  },
  {
   "cell_type": "code",
   "execution_count": 8,
   "metadata": {
    "collapsed": true
   },
   "outputs": [],
   "source": [
    "def main(THREAD_NUM):\n",
    "    threads = ThreadPoolExecutor(THREAD_NUM)\n",
    "    \n",
    "    post_urls = []\n",
    "    futures = [threads.submit(get_url_links, page, post_urls) for page in range(1, 2)]\n",
    "    wait(futures)\n",
    "        \n",
    "    news_list = []\n",
    "    count = []\n",
    "    futures = [threads.submit(save_posts_info, post_url, news_list, count) for post_url in post_urls]\n",
    "    wait(futures)\n",
    "    \n",
    "    #show_db_data('testDatabase', 'testCollection')\n",
    "\n",
    "    "
   ]
  },
  {
   "cell_type": "code",
   "execution_count": 9,
   "metadata": {},
   "outputs": [
    {
     "name": "stdout",
     "output_type": "stream",
     "text": [
      "輸出一個檔案囉～\n",
      "輸出一個檔案囉～\n",
      "輸出一個檔案囉～\n",
      "輸出一個檔案囉～\n",
      "輸出一個檔案囉～\n",
      "輸出一個檔案囉～\n",
      "輸出一個檔案囉～\n",
      "輸出一個檔案囉～\n",
      "輸出一個檔案囉～\n",
      "輸出一個檔案囉～\n",
      "輸出一個檔案囉～\n",
      "輸出一個檔案囉～\n",
      "輸出一個檔案囉～\n",
      "break point = time elapsed = 0:00:14.689801\n"
     ]
    }
   ],
   "source": [
    "if __name__ == \"__main__\":        \n",
    "    StopWatch.start()\n",
    "    client = MongoClient('localhost', 27017, maxPoolSize=None) #這裡需要指名你要連線的MongoDB所在的ip和port\n",
    "    main(10)\n",
    "    StopWatch.split('')\n",
    "    "
   ]
  },
  {
   "cell_type": "code",
   "execution_count": null,
   "metadata": {
    "collapsed": true
   },
   "outputs": [],
   "source": []
  },
  {
   "cell_type": "code",
   "execution_count": null,
   "metadata": {
    "collapsed": true
   },
   "outputs": [],
   "source": []
  }
 ],
 "metadata": {
  "kernelspec": {
   "display_name": "Python 3",
   "language": "python",
   "name": "python3"
  },
  "language_info": {
   "codemirror_mode": {
    "name": "ipython",
    "version": 3
   },
   "file_extension": ".py",
   "mimetype": "text/x-python",
   "name": "python",
   "nbconvert_exporter": "python",
   "pygments_lexer": "ipython3",
   "version": "3.6.3"
  }
 },
 "nbformat": 4,
 "nbformat_minor": 2
}

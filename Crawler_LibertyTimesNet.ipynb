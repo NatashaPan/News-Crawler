{
 "cells": [
  {
   "cell_type": "code",
   "execution_count": 227,
   "metadata": {
    "collapsed": true
   },
   "outputs": [],
   "source": [
    "# Crawler for 自由時報 Liberty Times Net\n",
    "## 歷年新聞_政治類"
   ]
  },
  {
   "cell_type": "code",
   "execution_count": 228,
   "metadata": {},
   "outputs": [
    {
     "name": "stdout",
     "output_type": "stream",
     "text": [
      "news/politics/paper/1155073\n",
      "news/politics/paper/1155074\n",
      "news/politics/paper/1155075\n",
      "news/politics/paper/1155076\n",
      "news/politics/paper/1155077\n",
      "news/politics/paper/1155078\n",
      "news/politics/paper/1155079\n",
      "news/politics/paper/1155080\n",
      "news/politics/paper/1155081\n"
     ]
    }
   ],
   "source": [
    "import requests\n",
    "import re\n",
    "import json\n",
    "from bs4 import BeautifulSoup as bs\n",
    "\n",
    "DOMAIN = \"http://news.ltn.com.tw/\"\n",
    "URL = \"http://news.ltn.com.tw/list/newspaper/politics/%s\"\n",
    "date = dt.datetime.now()\n",
    "\n",
    "for days in range(1,11): #這裏很粗糙的用數今天至10天前，先寫死\n",
    "    tmp_url = URL%date.strftime(\"%Y%m%d\")\n",
    "    resp = requests.get(tmp_url)\n",
    "    soup = bs(resp.text, 'html5lib')\n",
    "#     print(\"[INFO] Crawling page %s, status is %s\"%(tmp_url, resp.status_code))\n",
    "    a_tags = [a.get(\"href\") for a in soup.select('a.tit')]\n",
    "#\n",
    "    \n",
    "    for a_tag in a_tags:\n",
    "        url = DOMAIN + a_tag\n",
    "        resp = requests.get(url)\n",
    "        soup = bs(resp.text, 'html5lib')\n",
    "#         print(soup.prettify())\n",
    "        title = soup.select('title')[0].text\n",
    "        written_date = soup.select('div.text > span')[0].text\n",
    "        content = re.findall(\"〔.+〕(.+)\", \"\".join([p.text for p in soup.select('div.text > p')]))\n",
    "        dict = {\"title\": title, \"date\": written_date, \"content\": content}\n",
    "#        print(dict)\n",
    "        filename = a_tag.replace('/')\n",
    "        print(filename)\n",
    "#         with open(\"./libertyTimes/libertytimes.txt\", 'w', encoding='utf8') as f:\n",
    "#             f.write(json.dumps(dict))\n",
    "        \n",
    "        \n",
    "    date = date - datetime.timedelta(days=1)"
   ]
  },
  {
   "cell_type": "code",
   "execution_count": 153,
   "metadata": {
    "scrolled": true
   },
   "outputs": [
    {
     "data": {
      "text/plain": [
       "'/Users/natashapan'"
      ]
     },
     "execution_count": 153,
     "metadata": {},
     "output_type": "execute_result"
    }
   ],
   "source": [
    "import os\n",
    "os.getcwd()"
   ]
  },
  {
   "cell_type": "code",
   "execution_count": null,
   "metadata": {
    "collapsed": true
   },
   "outputs": [],
   "source": []
  },
  {
   "cell_type": "code",
   "execution_count": 69,
   "metadata": {
    "collapsed": true
   },
   "outputs": [],
   "source": [
    "import datetime as dt\n",
    "today = dt.datetime.now().strftime(\"%Y%m%d\")\n",
    "tomorrow = datetime.date.today() + datetime.timedelta(days=1)"
   ]
  },
  {
   "cell_type": "code",
   "execution_count": 142,
   "metadata": {},
   "outputs": [
    {
     "name": "stdout",
     "output_type": "stream",
     "text": [
      "[INFO] Crawling page http://news.ltn.com.tw/list/newspaper/politics/20171126, status is 200\n",
      "[INFO] Crawling page http://news.ltn.com.tw/list/newspaper/politics/20171125, status is 200\n",
      "[INFO] Crawling page http://news.ltn.com.tw/list/newspaper/politics/20171124, status is 200\n",
      "[INFO] Crawling page http://news.ltn.com.tw/list/newspaper/politics/20171123, status is 200\n",
      "[INFO] Crawling page http://news.ltn.com.tw/list/newspaper/politics/20171122, status is 200\n",
      "[INFO] Crawling page http://news.ltn.com.tw/list/newspaper/politics/20171121, status is 200\n",
      "[INFO] Crawling page http://news.ltn.com.tw/list/newspaper/politics/20171120, status is 200\n",
      "[INFO] Crawling page http://news.ltn.com.tw/list/newspaper/politics/20171119, status is 200\n",
      "[INFO] Crawling page http://news.ltn.com.tw/list/newspaper/politics/20171118, status is 200\n",
      "[INFO] Crawling page http://news.ltn.com.tw/list/newspaper/politics/20171117, status is 200\n"
     ]
    }
   ],
   "source": [
    "# 測試：爬十天前至今天的自由時報 ok!\n",
    "import requests\n",
    "\n",
    "URL = \"http://news.ltn.com.tw/list/newspaper/politics/%s\"\n",
    "date = dt.datetime.now()\n",
    "\n",
    "for count in range(1,11):\n",
    "    tmp_url = URL%date.strftime(\"%Y%m%d\")\n",
    "    resp = requests.get(tmp_url)\n",
    "    print(\"[INFO] Crawling page %s, status is %s\"%(tmp_url,resp.status_code))\n",
    "    with open('./apple/appledaily_%s.html'%page, 'w') as f:\n",
    "        f.write(resp.text)\n",
    "    date = date - datetime.timedelta(days=1)"
   ]
  },
  {
   "cell_type": "code",
   "execution_count": 229,
   "metadata": {},
   "outputs": [],
   "source": [
    "# 測試：爬該日自由時報的政治類新聞"
   ]
  },
  {
   "cell_type": "code",
   "execution_count": null,
   "metadata": {
    "collapsed": true
   },
   "outputs": [],
   "source": [
    "import requests\n",
    "\n",
    "URL = \"http://news.ltn.com.tw/list/newspaper/politics/20151102\"\n",
    "resp = requests.get(URL)\n",
    "\n",
    "from bs4 import BeautifulSoup as bs\n",
    "soup = bs(resp.text, 'html5lib')\n",
    "print(soup.prettify())\n",
    "\n"
   ]
  },
  {
   "cell_type": "code",
   "execution_count": null,
   "metadata": {
    "collapsed": true
   },
   "outputs": [],
   "source": [
    "a_tag = soup.select('a.tit')[0]\n",
    "url = DOMAIN + a_tag['href']\n",
    "p_tag = soup.select('a.tit > p')[0].string    # type(soup.select('a.tit > p')為bs4.element.Tag物件\n",
    "\n",
    "# 這裏我懶得用regular expression寫，要import套件效率應該也會比較差？\n",
    "# a_tag['data-desc']\n",
    "# import re\n",
    "# ...\n",
    "\n"
   ]
  },
  {
   "cell_type": "code",
   "execution_count": null,
   "metadata": {
    "collapsed": true
   },
   "outputs": [],
   "source": [
    "# 效率太差\n",
    "import re\n",
    "\n",
    "DOMAIN = \"http://www.appledaily.com.tw\"\n",
    "for i in range(1,20):\n",
    "    try:\n",
    "        a_tag = soup.select('a.tit')[i]\n",
    "        url = DOMAIN + a_tag['href']\n",
    "        p_tag = soup.select('a.tit > p')[i].string\n",
    "#         print(url, p_tag)\n",
    "        with open('./appledaily_%s.html'%page, 'w') as f:\n",
    "        f.write(resp.text)\n",
    "    except:\n",
    "        break\n",
    "\n"
   ]
  },
  {
   "cell_type": "code",
   "execution_count": 230,
   "metadata": {},
   "outputs": [],
   "source": [
    "# muilee -version\n",
    "import requests\n",
    "import re\n",
    "\n",
    "DOMAIN = \"http://news.ltn.com.tw/\"\n",
    "URL = \"http://news.ltn.com.tw/list/newspaper/politics/%s\"\n",
    "date = dt.datetime.now()\n",
    "\n",
    "for page in range(1,11):\n",
    "    tmp_url = URL%date.strftime(\"%Y%m%d\")\n",
    "    resp = requests.get(tmp_url)\n",
    "    a_tag = [a.get(\"href\") for a in soup.select('a.tit')]\n",
    "#     print(\"[INFO] Crawling page %s, status is %s\"%(tmp_url,resp.status_code))\n",
    "    date = date - datetime.timedelta(days=1)\n",
    "    for url in a_tag:\n",
    "        url = DOMAIN + url\n",
    "        resp = requests.get(url)\n"
   ]
  },
  {
   "cell_type": "code",
   "execution_count": null,
   "metadata": {
    "collapsed": true
   },
   "outputs": [],
   "source": [
    "<a class=\"tit\" href=\"news/politics/paper/928846\" data-desc=\"T:0:回應黃復興 王金平感慨︰無情無義\">\n",
    "\t\t\t\t\t<p class=\"selectorgadget_selected\">回應黃復興 王金平感慨︰無情無義</p>\n",
    "\t\t\t\t</a>"
   ]
  },
  {
   "cell_type": "code",
   "execution_count": 200,
   "metadata": {},
   "outputs": [
    {
     "name": "stdout",
     "output_type": "stream",
     "text": [
      "<class 'bs4.BeautifulSoup'>\n"
     ]
    }
   ],
   "source": [
    "url = \"http://news.ltn.com.tw/news/politics/paper/928846\"\n",
    "resp = requests.get(url)\n",
    "resp.text\n",
    "from bs4 import BeautifulSoup as bs\n",
    "soup = bs(resp.text, 'html5lib')\n",
    "# print(soup.prettify())\n",
    "\n",
    "print(type(soup))"
   ]
  },
  {
   "cell_type": "code",
   "execution_count": 196,
   "metadata": {},
   "outputs": [
    {
     "data": {
      "text/plain": [
       "'回應黃復興 王金平感慨︰無情無義 - 政治 - 自由時報電子報'"
      ]
     },
     "execution_count": 196,
     "metadata": {},
     "output_type": "execute_result"
    }
   ],
   "source": [
    "title = soup.find('title').string\n",
    "title"
   ]
  },
  {
   "cell_type": "code",
   "execution_count": 197,
   "metadata": {},
   "outputs": [
    {
     "data": {
      "text/plain": [
       "'2015-11-02'"
      ]
     },
     "execution_count": 197,
     "metadata": {},
     "output_type": "execute_result"
    }
   ],
   "source": [
    "written_date = soup.select('div.text > span')[0].text\n",
    "written_date"
   ]
  },
  {
   "cell_type": "code",
   "execution_count": 198,
   "metadata": {},
   "outputs": [
    {
     "data": {
      "text/plain": [
       "['國民黨不分區立委排名問題諸多波折，立法院長王金平近日在一私下聚敘場合，針對黃復興黨部主委戴伯特上週三在國民黨中常會的發言，首度感慨表示，「（戴）講出這種無情無義的話，人情義理難容。」國民黨上週三中常會通過不分區立委提名的「議長條款」，為王金平連任不分區立委的限制解套；但戴伯特被轉述在會中發言認為，國民黨是有組織與制度的政黨，不應以任何形式為某一「個人」量身打造不分區連任條款。同日，黃復興黨部並發表聲明，指基層強烈反對，對總統與立委選情勢必產生相當程度的影響，「建議」王主動要求列名十名以後。事後，王金平就此始終低調應對，未有太多表示。不過，最近在三五好友的餐會上，大家聊到了這個不愉快的話題，王在席間做了很直率的表述，其心境一覽無遺。王金平說：「可以請歷任的國防部長、退輔會主委、國安首長捫心自問，他們請求協助的案子，我有哪一件不是排除萬難，奔走朝野協調，盡力滿足他們的要求？」「如今昧於事實，講出這種無情無義，人情義理難容的話出來，還想主導政局的發展」，這太羞辱台灣人的智慧了。王還提到：「朱立倫講的那三個錯誤政策（指油電雙漲、證所稅、十二年國教），哪一個我沒有在參加五人小組時力勸馬英九？但是他根本就聽不進去，無可奈何，只能協助讓情況能夠緩和順利。」王金平更說：「服貿協議的問題，我老早就告訴他們一定要好好地溝通協調。這出在兩個問題，一個是當初建議在國會成立兩岸協議的監督小組，讓國會參與，但是馬不同意；第二是政府去談判時，事前竟然沒有先知會立法院，等到談回來要實施了，才來告知國會，當然會引發這麼大的反彈。」王金平的說明，讓友人們忿忿不平，認為當年黨內沒有人敢反馬，王金平就是因為當面直諫，才會讓馬恨王至此，欲除之而後快；而如今，朱立倫不也是不得不與馬切割？王友人不諱言，馬以及這群想挾持基層的這幫人，是非不分、不知反省，還出口傷人，好像台灣人一定只能當國民黨少數權貴的奴才；這些少數集團，完全只想掌權，國民黨內根本沒有民主。友人甚至打抱不平表示，這幫子人最可惡的是，一直向對岸「打針」說王金平是隱性台獨，想藉外力剷除異己；但是馬與朱最近老是打著中華民國旗號，那中華民國與中華人民共和國到底是什麼關係，又講不出一個道理，這又算什麼？！']"
      ]
     },
     "execution_count": 198,
     "metadata": {},
     "output_type": "execute_result"
    }
   ],
   "source": [
    "import re\n",
    "content = \"\".join([p.text for p in soup.select('div.text > p')])\n",
    "content = re.findall(\"〔.+〕(.+)\", content)\n",
    "content"
   ]
  },
  {
   "cell_type": "code",
   "execution_count": 131,
   "metadata": {},
   "outputs": [
    {
     "data": {
      "text/plain": [
       "'〔記者鄒景雯／台北報導〕國民黨不分區立委排名問題諸多波折，立法院長王金平近日在一私下聚敘場合，針對黃復興黨部主委戴伯特上週三在國民黨中常會的發言，首度感慨表示，「（戴）講出這種無情無義的話，人情義理難容。」國民黨上週三中常會通過不分區立委提名的「議長條款」，為王金平連任不分區立委的限制解套；但戴伯特被轉述在會中發言認為，國民黨是有組織與制度的政黨，不應以任何形式為某一「個人」量身打造不分區連任條款。同日，黃復興黨部並發表聲明，指基層強烈反對，對總統與立委選情勢必產生相當程度的影響，「建議」王主動要求列名十名以後。事後，王金平就此始終低調應對，未有太多表示。不過，最近在三五好友的餐會上，大家聊到了這個不愉快的話題，王在席間做了很直率的表述，其心境一覽無遺。王金平說：「可以請歷任的國防部長、退輔會主委、國安首長捫心自問，他們請求協助的案子，我有哪一件不是排除萬難，奔走朝野協調，盡力滿足他們的要求？」「如今昧於事實，講出這種無情無義，人情義理難容的話出來，還想主導政局的發展」，這太羞辱台灣人的智慧了。王還提到：「朱立倫講的那三個錯誤政策（指油電雙漲、證所稅、十二年國教），哪一個我沒有在參加五人小組時力勸馬英九？但是他根本就聽不進去，無可奈何，只能協助讓情況能夠緩和順利。」王金平更說：「服貿協議的問題，我老早就告訴他們一定要好好地溝通協調。這出在兩個問題，一個是當初建議在國會成立兩岸協議的監督小組，讓國會參與，但是馬不同意；第二是政府去談判時，事前竟然沒有先知會立法院，等到談回來要實施了，才來告知國會，當然會引發這麼大的反彈。」王金平的說明，讓友人們忿忿不平，認為當年黨內沒有人敢反馬，王金平就是因為當面直諫，才會讓馬恨王至此，欲除之而後快；而如今，朱立倫不也是不得不與馬切割？王友人不諱言，馬以及這群想挾持基層的這幫人，是非不分、不知反省，還出口傷人，好像台灣人一定只能當國民黨少數權貴的奴才；這些少數集團，完全只想掌權，國民黨內根本沒有民主。友人甚至打抱不平表示，這幫子人最可惡的是，一直向對岸「打針」說王金平是隱性台獨，想藉外力剷除異己；但是馬與朱最近老是打著中華民國旗號，那中華民國與中華人民共和國到底是什麼關係，又講不出一個道理，這又算什麼？！'"
      ]
     },
     "execution_count": 131,
     "metadata": {},
     "output_type": "execute_result"
    }
   ],
   "source": [
    "\"\".join([p.text for p in soup.select('div.text > p')])"
   ]
  },
  {
   "cell_type": "code",
   "execution_count": 161,
   "metadata": {},
   "outputs": [
    {
     "data": {
      "text/plain": [
       "{'content': ['國民黨不分區立委排名問題諸多波折，立法院長王金平近日在一私下聚敘場合，針對黃復興黨部主委戴伯特上週三在國民黨中常會的發言，首度感慨表示，「（戴）講出這種無情無義的話，人情義理難容。」國民黨上週三中常會通過不分區立委提名的「議長條款」，為王金平連任不分區立委的限制解套；但戴伯特被轉述在會中發言認為，國民黨是有組織與制度的政黨，不應以任何形式為某一「個人」量身打造不分區連任條款。同日，黃復興黨部並發表聲明，指基層強烈反對，對總統與立委選情勢必產生相當程度的影響，「建議」王主動要求列名十名以後。事後，王金平就此始終低調應對，未有太多表示。不過，最近在三五好友的餐會上，大家聊到了這個不愉快的話題，王在席間做了很直率的表述，其心境一覽無遺。王金平說：「可以請歷任的國防部長、退輔會主委、國安首長捫心自問，他們請求協助的案子，我有哪一件不是排除萬難，奔走朝野協調，盡力滿足他們的要求？」「如今昧於事實，講出這種無情無義，人情義理難容的話出來，還想主導政局的發展」，這太羞辱台灣人的智慧了。王還提到：「朱立倫講的那三個錯誤政策（指油電雙漲、證所稅、十二年國教），哪一個我沒有在參加五人小組時力勸馬英九？但是他根本就聽不進去，無可奈何，只能協助讓情況能夠緩和順利。」王金平更說：「服貿協議的問題，我老早就告訴他們一定要好好地溝通協調。這出在兩個問題，一個是當初建議在國會成立兩岸協議的監督小組，讓國會參與，但是馬不同意；第二是政府去談判時，事前竟然沒有先知會立法院，等到談回來要實施了，才來告知國會，當然會引發這麼大的反彈。」王金平的說明，讓友人們忿忿不平，認為當年黨內沒有人敢反馬，王金平就是因為當面直諫，才會讓馬恨王至此，欲除之而後快；而如今，朱立倫不也是不得不與馬切割？王友人不諱言，馬以及這群想挾持基層的這幫人，是非不分、不知反省，還出口傷人，好像台灣人一定只能當國民黨少數權貴的奴才；這些少數集團，完全只想掌權，國民黨內根本沒有民主。友人甚至打抱不平表示，這幫子人最可惡的是，一直向對岸「打針」說王金平是隱性台獨，想藉外力剷除異己；但是馬與朱最近老是打著中華民國旗號，那中華民國與中華人民共和國到底是什麼關係，又講不出一個道理，這又算什麼？！'],\n",
       " 'date': '2015-11-02',\n",
       " 'title': '回應黃復興 王金平感慨︰無情無義 - 政治 - 自由時報電子報'}"
      ]
     },
     "execution_count": 161,
     "metadata": {},
     "output_type": "execute_result"
    }
   ],
   "source": [
    "dict = {\"title\": title, \"date\": written_date, \"content\": content}\n",
    "dict"
   ]
  },
  {
   "cell_type": "code",
   "execution_count": null,
   "metadata": {
    "collapsed": true
   },
   "outputs": [],
   "source": []
  }
 ],
 "metadata": {
  "kernelspec": {
   "display_name": "Python 3",
   "language": "python",
   "name": "python3"
  },
  "language_info": {
   "codemirror_mode": {
    "name": "ipython",
    "version": 3
   },
   "file_extension": ".py",
   "mimetype": "text/x-python",
   "name": "python",
   "nbconvert_exporter": "python",
   "pygments_lexer": "ipython3",
   "version": "3.6.3"
  }
 },
 "nbformat": 4,
 "nbformat_minor": 2
}

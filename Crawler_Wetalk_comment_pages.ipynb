{
 "cells": [
  {
   "cell_type": "code",
   "execution_count": 2,
   "metadata": {
    "collapsed": true
   },
   "outputs": [],
   "source": [
    "import requests\n",
    "from bs4 import BeautifulSoup\n",
    "import re\n",
    "import json\n",
    "from concurrent.futures import ThreadPoolExecutor, wait\n",
    "from datetime import datetime\n",
    "from pymongo import MongoClient\n"
   ]
  },
  {
   "cell_type": "code",
   "execution_count": 35,
   "metadata": {},
   "outputs": [
    {
     "data": {
      "text/plain": [
       "['https://www.wetalk.tw/forum.php?mod=viewthread&tid=57466&extra=page%3D2&page=1',\n",
       " 'https://www.wetalk.tw/forum.php?mod=viewthread&tid=57466&extra=page%3D2&page=2']"
      ]
     },
     "execution_count": 35,
     "metadata": {},
     "output_type": "execute_result"
    }
   ],
   "source": [
    "DOMAIN = \"https://www.wetalk.tw\"\n",
    "URL = \"https://www.wetalk.tw/forum.php?mod=viewthread&tid=57466&extra=page%3D2&page=1\"\n",
    "resp = requests.get(URL)\n",
    "soup = BeautifulSoup(resp.text, \"html5lib\")\n",
    "\n",
    "total_page = int(re.findall(\".+(\\d+).+\",soup.select('div#pgt > div.pgt > div.pg > label > span')[0].get('title'))[0])\n",
    "COMMENT_URL = 'https://www.wetalk.tw/forum.php?mod=viewthread&tid=57466&extra=page%3D2&page='\n",
    "comment_urls = [COMMENT_URL + str(i) for i in range(total_page)][1:] \n",
    "\n",
    "comment_urls\n",
    "#[待改進]取值方式不要用slice,以優化效能"
   ]
  },
  {
   "cell_type": "code",
   "execution_count": null,
   "metadata": {},
   "outputs": [],
   "source": []
  },
  {
   "cell_type": "code",
   "execution_count": null,
   "metadata": {},
   "outputs": [],
   "source": []
  },
  {
   "cell_type": "code",
   "execution_count": null,
   "metadata": {},
   "outputs": [],
   "source": []
  },
  {
   "cell_type": "code",
   "execution_count": null,
   "metadata": {},
   "outputs": [],
   "source": []
  },
  {
   "cell_type": "code",
   "execution_count": null,
   "metadata": {
    "collapsed": true
   },
   "outputs": [],
   "source": []
  }
 ],
 "metadata": {
  "kernelspec": {
   "display_name": "Python 3",
   "language": "python",
   "name": "python3"
  },
  "language_info": {
   "codemirror_mode": {
    "name": "ipython",
    "version": 3
   },
   "file_extension": ".py",
   "mimetype": "text/x-python",
   "name": "python",
   "nbconvert_exporter": "python",
   "pygments_lexer": "ipython3",
   "version": "3.6.3"
  }
 },
 "nbformat": 4,
 "nbformat_minor": 2
}
